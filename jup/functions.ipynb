{
 "cells": [
  {
   "cell_type": "markdown",
   "id": "3ec430a9-8fa6-428b-b53d-371044dce607",
   "metadata": {},
   "source": [
    "We use `def` to define a function."
   ]
  },
  {
   "cell_type": "code",
   "execution_count": 1,
   "id": "38f1ebc0-3377-4b99-beb5-84386fe02202",
   "metadata": {
    "tags": []
   },
   "outputs": [],
   "source": [
    "def add(a, b):\n",
    "    return a + b"
   ]
  },
  {
   "cell_type": "code",
   "execution_count": 2,
   "id": "ed1900e1-e479-41ea-913a-e8c366706fa3",
   "metadata": {
    "tags": []
   },
   "outputs": [
    {
     "data": {
      "text/plain": [
       "35"
      ]
     },
     "execution_count": 2,
     "metadata": {},
     "output_type": "execute_result"
    }
   ],
   "source": [
    "add(30, 5)"
   ]
  },
  {
   "cell_type": "markdown",
   "id": "92c768bb-ce8a-46a7-8a64-d9e40e1375c0",
   "metadata": {},
   "source": [
    "`add(30, 5)` is a function call with arguments `30` and `5` and it returns a sum of those numbers."
   ]
  }
 ],
 "metadata": {
  "kernelspec": {
   "display_name": "Python 3 (ipykernel)",
   "language": "python",
   "name": "python3"
  },
  "language_info": {
   "codemirror_mode": {
    "name": "ipython",
    "version": 3
   },
   "file_extension": ".py",
   "mimetype": "text/x-python",
   "name": "python",
   "nbconvert_exporter": "python",
   "pygments_lexer": "ipython3",
   "version": "3.11.2"
  }
 },
 "nbformat": 4,
 "nbformat_minor": 5
}
